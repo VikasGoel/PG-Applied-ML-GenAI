{
  "nbformat": 4,
  "nbformat_minor": 0,
  "metadata": {
    "colab": {
      "provenance": []
    },
    "kernelspec": {
      "name": "python3",
      "display_name": "Python 3"
    },
    "language_info": {
      "name": "python"
    }
  },
  "cells": [
    {
      "cell_type": "code",
      "execution_count": null,
      "metadata": {
        "colab": {
          "base_uri": "https://localhost:8080/"
        },
        "id": "oXoyuu2moLfU",
        "outputId": "4a420cbd-6be6-4ed5-a999-10de8587b384"
      },
      "outputs": [
        {
          "output_type": "stream",
          "name": "stdout",
          "text": [
            "Collecting apyori\n",
            "  Downloading apyori-1.1.2.tar.gz (8.6 kB)\n",
            "  Preparing metadata (setup.py) ... \u001b[?25l\u001b[?25hdone\n",
            "Building wheels for collected packages: apyori\n",
            "  Building wheel for apyori (setup.py) ... \u001b[?25l\u001b[?25hdone\n",
            "  Created wheel for apyori: filename=apyori-1.1.2-py3-none-any.whl size=5954 sha256=9275cdfccce1c7793b0cde1b25e4add06cb1787981f8f894a5ae52a7f6432cde\n",
            "  Stored in directory: /root/.cache/pip/wheels/77/3d/a6/d317a6fb32be58a602b1e8c6b5d6f31f79322da554cad2a5ea\n",
            "Successfully built apyori\n",
            "Installing collected packages: apyori\n",
            "Successfully installed apyori-1.1.2\n"
          ]
        }
      ],
      "source": [
        "!pip install apyori"
      ]
    },
    {
      "cell_type": "code",
      "source": [
        "#Import Libraries\n",
        "import numpy\n",
        "import pandas as pd\n",
        "from apyori import apriori"
      ],
      "metadata": {
        "id": "JN9ltO2nqNFb"
      },
      "execution_count": null,
      "outputs": []
    },
    {
      "cell_type": "code",
      "source": [
        "#Not a recommended way of reading data for Apriori Algorithm\n",
        "df=pd.read_csv(\"/content/store_data.csv\")\n",
        "print(df.head())"
      ],
      "metadata": {
        "colab": {
          "base_uri": "https://localhost:8080/"
        },
        "id": "CnNnI-m4qaJe",
        "outputId": "74caf1c6-7ff4-46eb-f21e-67508acacb40"
      },
      "execution_count": null,
      "outputs": [
        {
          "output_type": "stream",
          "name": "stdout",
          "text": [
            "           shrimp    almonds     avocado    vegetables mix green grapes  \\\n",
            "0         burgers  meatballs        eggs               NaN          NaN   \n",
            "1         chutney        NaN         NaN               NaN          NaN   \n",
            "2          turkey    avocado         NaN               NaN          NaN   \n",
            "3   mineral water       milk  energy bar  whole wheat rice    green tea   \n",
            "4  low fat yogurt        NaN         NaN               NaN          NaN   \n",
            "\n",
            "  whole weat flour yams cottage cheese energy drink tomato juice  \\\n",
            "0              NaN  NaN            NaN          NaN          NaN   \n",
            "1              NaN  NaN            NaN          NaN          NaN   \n",
            "2              NaN  NaN            NaN          NaN          NaN   \n",
            "3              NaN  NaN            NaN          NaN          NaN   \n",
            "4              NaN  NaN            NaN          NaN          NaN   \n",
            "\n",
            "  low fat yogurt green tea honey salad mineral water salmon antioxydant juice  \\\n",
            "0            NaN       NaN   NaN   NaN           NaN    NaN               NaN   \n",
            "1            NaN       NaN   NaN   NaN           NaN    NaN               NaN   \n",
            "2            NaN       NaN   NaN   NaN           NaN    NaN               NaN   \n",
            "3            NaN       NaN   NaN   NaN           NaN    NaN               NaN   \n",
            "4            NaN       NaN   NaN   NaN           NaN    NaN               NaN   \n",
            "\n",
            "  frozen smoothie spinach  olive oil  \n",
            "0             NaN     NaN        NaN  \n",
            "1             NaN     NaN        NaN  \n",
            "2             NaN     NaN        NaN  \n",
            "3             NaN     NaN        NaN  \n",
            "4             NaN     NaN        NaN  \n"
          ]
        }
      ]
    },
    {
      "cell_type": "code",
      "source": [
        "print(df.shape)"
      ],
      "metadata": {
        "colab": {
          "base_uri": "https://localhost:8080/"
        },
        "id": "B10OTysPqrzX",
        "outputId": "f5398bbe-dd4e-4063-9d9a-998b8d2bd44b"
      },
      "execution_count": null,
      "outputs": [
        {
          "output_type": "stream",
          "name": "stdout",
          "text": [
            "(7500, 20)\n"
          ]
        }
      ]
    },
    {
      "cell_type": "code",
      "source": [
        "#Native/Fundamental way of reading data\n",
        "file_obj=open(\"/content/store_data.csv\",\"rt\")\n",
        "store_data=file_obj.readlines()\n",
        "file_obj.close()"
      ],
      "metadata": {
        "id": "k6q9tOwhqy9B"
      },
      "execution_count": null,
      "outputs": []
    },
    {
      "cell_type": "code",
      "source": [
        "store_data[:5]"
      ],
      "metadata": {
        "colab": {
          "base_uri": "https://localhost:8080/"
        },
        "id": "r_wuk8Qnr695",
        "outputId": "8d0f4bf8-76ea-40cb-96fa-1546423b075a"
      },
      "execution_count": null,
      "outputs": [
        {
          "output_type": "execute_result",
          "data": {
            "text/plain": [
              "['shrimp,almonds,avocado,vegetables mix,green grapes,whole weat flour,yams,cottage cheese,energy drink,tomato juice,low fat yogurt,green tea,honey,salad,mineral water,salmon,antioxydant juice,frozen smoothie,spinach,olive oil\\n',\n",
              " 'burgers,meatballs,eggs\\n',\n",
              " 'chutney\\n',\n",
              " 'turkey,avocado\\n',\n",
              " 'mineral water,milk,energy bar,whole wheat rice,green tea\\n']"
            ]
          },
          "metadata": {},
          "execution_count": 8
        }
      ]
    },
    {
      "cell_type": "code",
      "source": [
        "#[['A','B','C'],['D','E']]\n",
        "'mineral water,milk,energy bar,whole wheat rice,green tea\\n'.strip().split(',')"
      ],
      "metadata": {
        "colab": {
          "base_uri": "https://localhost:8080/"
        },
        "id": "a3WZqMdosBCa",
        "outputId": "3dda0ade-b570-41f1-9734-53e60c1c39bc"
      },
      "execution_count": null,
      "outputs": [
        {
          "output_type": "execute_result",
          "data": {
            "text/plain": [
              "['mineral water', 'milk', 'energy bar', 'whole wheat rice', 'green tea']"
            ]
          },
          "metadata": {},
          "execution_count": 10
        }
      ]
    },
    {
      "cell_type": "code",
      "source": [
        "store_data_processed=[x.strip() for x in store_data]"
      ],
      "metadata": {
        "id": "dc9xAJwrtAxh"
      },
      "execution_count": null,
      "outputs": []
    },
    {
      "cell_type": "code",
      "source": [
        "print(store_data_processed[:5])"
      ],
      "metadata": {
        "colab": {
          "base_uri": "https://localhost:8080/"
        },
        "id": "8s9APnsOtjy0",
        "outputId": "4b120c4b-b9e1-4217-da58-8ae9d0232d06"
      },
      "execution_count": null,
      "outputs": [
        {
          "output_type": "stream",
          "name": "stdout",
          "text": [
            "['shrimp,almonds,avocado,vegetables mix,green grapes,whole weat flour,yams,cottage cheese,energy drink,tomato juice,low fat yogurt,green tea,honey,salad,mineral water,salmon,antioxydant juice,frozen smoothie,spinach,olive oil', 'burgers,meatballs,eggs', 'chutney', 'turkey,avocado', 'mineral water,milk,energy bar,whole wheat rice,green tea']\n"
          ]
        }
      ]
    },
    {
      "cell_type": "code",
      "source": [
        "store_processed=[x.split(',') for x in store_data_processed]\n",
        "store_processed[:5]"
      ],
      "metadata": {
        "colab": {
          "base_uri": "https://localhost:8080/"
        },
        "id": "GeUfnsoRtmh6",
        "outputId": "8e441bb9-3f09-4c6b-f522-800d7e6c26ac"
      },
      "execution_count": null,
      "outputs": [
        {
          "output_type": "execute_result",
          "data": {
            "text/plain": [
              "[['shrimp',\n",
              "  'almonds',\n",
              "  'avocado',\n",
              "  'vegetables mix',\n",
              "  'green grapes',\n",
              "  'whole weat flour',\n",
              "  'yams',\n",
              "  'cottage cheese',\n",
              "  'energy drink',\n",
              "  'tomato juice',\n",
              "  'low fat yogurt',\n",
              "  'green tea',\n",
              "  'honey',\n",
              "  'salad',\n",
              "  'mineral water',\n",
              "  'salmon',\n",
              "  'antioxydant juice',\n",
              "  'frozen smoothie',\n",
              "  'spinach',\n",
              "  'olive oil'],\n",
              " ['burgers', 'meatballs', 'eggs'],\n",
              " ['chutney'],\n",
              " ['turkey', 'avocado'],\n",
              " ['mineral water', 'milk', 'energy bar', 'whole wheat rice', 'green tea']]"
            ]
          },
          "metadata": {},
          "execution_count": 13
        }
      ]
    },
    {
      "cell_type": "code",
      "source": [
        "\" Sample string \\n \".strip()"
      ],
      "metadata": {
        "colab": {
          "base_uri": "https://localhost:8080/",
          "height": 35
        },
        "id": "asCQIBFIvEnN",
        "outputId": "0fe85809-77c5-4906-8fdb-06abc1c5ed20"
      },
      "execution_count": null,
      "outputs": [
        {
          "output_type": "execute_result",
          "data": {
            "text/plain": [
              "'Sample string'"
            ],
            "application/vnd.google.colaboratory.intrinsic+json": {
              "type": "string"
            }
          },
          "metadata": {},
          "execution_count": 14
        }
      ]
    },
    {
      "cell_type": "code",
      "source": [
        "#Apply Apriori\n",
        "association_rules=apriori(store_processed,min_support=0.00045,min_confidence=0.020,min_lift=3,min_length=2)\n",
        "association_results=list(association_rules)\n",
        "print(association_results[1])\n",
        "print(len(association_results))"
      ],
      "metadata": {
        "colab": {
          "base_uri": "https://localhost:8080/"
        },
        "id": "nzeYlXsivKXB",
        "outputId": "d0b22fd8-965e-419e-e801-ed67bdfb4908"
      },
      "execution_count": null,
      "outputs": [
        {
          "output_type": "stream",
          "name": "stdout",
          "text": [
            "RelationRecord(items=frozenset({'bug spray', 'almonds'}), support=0.0005332622317024396, ordered_statistics=[OrderedStatistic(items_base=frozenset({'almonds'}), items_add=frozenset({'bug spray'}), confidence=0.0261437908496732, lift=3.0169934640522875), OrderedStatistic(items_base=frozenset({'bug spray'}), items_add=frozenset({'almonds'}), confidence=0.061538461538461535, lift=3.0169934640522875)])\n",
            "10819\n"
          ]
        }
      ]
    },
    {
      "cell_type": "code",
      "source": [
        "#Format Rules\n",
        "for item in association_results:\n",
        "  pair=item[0]\n",
        "  items=[x for x in pair]\n",
        "  print(\"Rule: \"+items[0]+\" -> \"+items[1])\n",
        "  print(\"Support: \"+str(item[1]))\n",
        "  print(\"Confidence:\",str(item[2][0][2]))\n",
        "  print(\"Lift: \"+str(item[2][0][3]))\n",
        "  print(\"=====================================\")"
      ],
      "metadata": {
        "colab": {
          "base_uri": "https://localhost:8080/"
        },
        "id": "2RqdQxhfxGkP",
        "outputId": "e568e10b-7216-41de-bed0-f0861a8b7a9e"
      },
      "execution_count": null,
      "outputs": [
        {
          "output_type": "stream",
          "name": "stdout",
          "text": [
            "Rule: chicken -> light cream\n",
            "Support: 0.004532728969470737\n",
            "Confidence: 0.29059829059829057\n",
            "Lift: 4.84395061728395\n",
            "=====================================\n",
            "Rule: escalope -> mushroom cream sauce\n",
            "Support: 0.005732568990801226\n",
            "Confidence: 0.3006993006993007\n",
            "Lift: 3.790832696715049\n",
            "=====================================\n",
            "Rule: pasta -> escalope\n",
            "Support: 0.005865884548726837\n",
            "Confidence: 0.3728813559322034\n",
            "Lift: 4.700811850163794\n",
            "=====================================\n",
            "Rule: ground beef -> herb & pepper\n",
            "Support: 0.015997866951073192\n",
            "Confidence: 0.3234501347708895\n",
            "Lift: 3.2919938411349285\n",
            "=====================================\n",
            "Rule: tomato sauce -> ground beef\n",
            "Support: 0.005332622317024397\n",
            "Confidence: 0.3773584905660377\n",
            "Lift: 3.840659481324083\n",
            "=====================================\n",
            "Rule: whole wheat pasta -> olive oil\n",
            "Support: 0.007998933475536596\n",
            "Confidence: 0.2714932126696833\n",
            "Lift: 4.122410097642296\n",
            "=====================================\n",
            "Rule: pasta -> shrimp\n",
            "Support: 0.005065991201173177\n",
            "Confidence: 0.3220338983050847\n",
            "Lift: 4.506672147735896\n",
            "=====================================\n",
            "Rule: shrimp -> chocolate\n",
            "Support: 0.005332622317024397\n",
            "Confidence: 0.23255813953488375\n",
            "Lift: 3.2545123221103784\n",
            "=====================================\n",
            "Rule: cooking oil -> ground beef\n",
            "Support: 0.004799360085321957\n",
            "Confidence: 0.5714285714285714\n",
            "Lift: 3.2819951870487856\n",
            "=====================================\n",
            "Rule: ground beef -> spaghetti\n",
            "Support: 0.008665511265164644\n",
            "Confidence: 0.31100478468899523\n",
            "Lift: 3.165328208890303\n",
            "=====================================\n",
            "Rule: olive oil -> milk\n",
            "Support: 0.004799360085321957\n",
            "Confidence: 0.20338983050847456\n",
            "Lift: 3.088314005352364\n",
            "=====================================\n",
            "Rule: shrimp -> mineral water\n",
            "Support: 0.007199040127982935\n",
            "Confidence: 0.30508474576271183\n",
            "Lift: 3.200616332819722\n",
            "=====================================\n",
            "Rule: spaghetti -> olive oil\n",
            "Support: 0.005732568990801226\n",
            "Confidence: 0.20574162679425836\n",
            "Lift: 3.1240241752707125\n",
            "=====================================\n",
            "Rule: shrimp -> spaghetti\n",
            "Support: 0.005999200106652446\n",
            "Confidence: 0.21531100478468898\n",
            "Lift: 3.0131489680782684\n",
            "=====================================\n",
            "Rule: spaghetti -> tomatoes\n",
            "Support: 0.006665777896280496\n",
            "Confidence: 0.23923444976076558\n",
            "Lift: 3.4980460188216425\n",
            "=====================================\n",
            "Rule: ground beef -> spaghetti\n",
            "Support: 0.005332622317024397\n",
            "Confidence: 0.3225806451612903\n",
            "Lift: 3.283144395325426\n",
            "=====================================\n",
            "Rule: ground beef -> mineral water\n",
            "Support: 0.006665777896280496\n",
            "Confidence: 0.39062500000000006\n",
            "Lift: 3.975682666214383\n",
            "=====================================\n",
            "Rule: ground beef -> spaghetti\n",
            "Support: 0.006399146780429276\n",
            "Confidence: 0.3934426229508197\n",
            "Lift: 4.004359721511667\n",
            "=====================================\n",
            "Rule: olive oil -> ground beef\n",
            "Support: 0.004932675643247567\n",
            "Confidence: 0.22424242424242427\n",
            "Lift: 3.40494417862839\n",
            "=====================================\n",
            "Rule: ground beef -> spaghetti\n",
            "Support: 0.005999200106652446\n",
            "Confidence: 0.5232558139534884\n",
            "Lift: 3.005315360233627\n",
            "=====================================\n",
            "Rule: olive oil -> spaghetti\n",
            "Support: 0.007199040127982935\n",
            "Confidence: 0.20300751879699247\n",
            "Lift: 3.0825089038385434\n",
            "=====================================\n",
            "Rule: olive oil -> soup\n",
            "Support: 0.005199306759098787\n",
            "Confidence: 0.22543352601156072\n",
            "Lift: 3.4230301186492245\n",
            "=====================================\n",
            "Rule: pancakes -> spaghetti\n",
            "Support: 0.005065991201173177\n",
            "Confidence: 0.20105820105820105\n",
            "Lift: 3.0529100529100526\n",
            "=====================================\n",
            "Rule: spaghetti -> mineral water\n",
            "Support: 0.004532728969470737\n",
            "Confidence: 0.28813559322033894\n",
            "Lift: 3.0228043143297376\n",
            "=====================================\n"
          ]
        }
      ]
    },
    {
      "cell_type": "code",
      "source": [],
      "metadata": {
        "id": "qWYs1fjlyIv3"
      },
      "execution_count": null,
      "outputs": []
    }
  ]
}