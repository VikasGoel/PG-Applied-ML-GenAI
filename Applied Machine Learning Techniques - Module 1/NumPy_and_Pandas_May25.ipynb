{
  "nbformat": 4,
  "nbformat_minor": 0,
  "metadata": {
    "colab": {
      "provenance": []
    },
    "kernelspec": {
      "name": "python3",
      "display_name": "Python 3"
    },
    "language_info": {
      "name": "python"
    }
  },
  "cells": [
    {
      "cell_type": "code",
      "execution_count": null,
      "metadata": {
        "colab": {
          "base_uri": "https://localhost:8080/"
        },
        "id": "wGnI2Cw6duT5",
        "outputId": "1e6306bd-140c-4907-8ed2-42756df4c949"
      },
      "outputs": [
        {
          "output_type": "stream",
          "name": "stdout",
          "text": [
            "<class 'numpy.ndarray'>\n",
            "[45 63 98 56 23 41]\n",
            "int64\n",
            "(6,)\n",
            "6\n",
            "1\n"
          ]
        }
      ],
      "source": [
        "import numpy as np\n",
        "#creating an array\n",
        "ar=np.array([45,63,98,56,23,41])\n",
        "#ar=np.array([45,63,98,56,23,41,'abc'])\n",
        "print(type(ar))\n",
        "print(ar)\n",
        "print(ar.dtype)\n",
        "print(ar.shape)\n",
        "print(ar.size)  #no of elements\n",
        "print(ar.ndim)"
      ]
    },
    {
      "cell_type": "code",
      "source": [
        "#arange(start,stop,step)\n",
        "ar1=np.arange(1,10)\n",
        "ar1=np.arange(1,50,2)\n",
        "print(ar1)"
      ],
      "metadata": {
        "colab": {
          "base_uri": "https://localhost:8080/"
        },
        "id": "WKeT6HqdiSxN",
        "outputId": "67725ba9-913d-4d86-a07f-1eec051524bb"
      },
      "execution_count": null,
      "outputs": [
        {
          "output_type": "stream",
          "name": "stdout",
          "text": [
            "[ 1  3  5  7  9 11 13 15 17 19 21 23 25 27 29 31 33 35 37 39 41 43 45 47\n",
            " 49]\n"
          ]
        }
      ]
    },
    {
      "cell_type": "code",
      "source": [
        "ar=np.array([45,63,98,56,23,41])\n",
        "print(ar[0])"
      ],
      "metadata": {
        "colab": {
          "base_uri": "https://localhost:8080/"
        },
        "id": "4jAa7NHMj1Vr",
        "outputId": "830ed8f5-ca20-4512-b324-50d7af0c12f3"
      },
      "execution_count": null,
      "outputs": [
        {
          "output_type": "stream",
          "name": "stdout",
          "text": [
            "45\n"
          ]
        }
      ]
    },
    {
      "cell_type": "code",
      "source": [
        "#2D array\n",
        "ar3=np.array([[45,63,98],[56,23,41],[78,96,32],[10,20,30]])\n",
        "print(ar3)\n",
        "print(ar3.shape) #rows,columns\n",
        "print(ar3.ndim)\n",
        "print(ar3.size)"
      ],
      "metadata": {
        "colab": {
          "base_uri": "https://localhost:8080/"
        },
        "id": "mmD5xdjrj66H",
        "outputId": "b47681ae-1480-4a4a-86fa-75f50c83f30f"
      },
      "execution_count": null,
      "outputs": [
        {
          "output_type": "stream",
          "name": "stdout",
          "text": [
            "[[45 63 98]\n",
            " [56 23 41]\n",
            " [78 96 32]\n",
            " [10 20 30]]\n",
            "(4, 3)\n",
            "2\n",
            "12\n"
          ]
        }
      ]
    },
    {
      "cell_type": "code",
      "source": [
        "print(ar3[1][2])"
      ],
      "metadata": {
        "colab": {
          "base_uri": "https://localhost:8080/"
        },
        "id": "urdXwdRXkn2p",
        "outputId": "3d5f09fa-df31-4b17-eb1e-2b778df17d2c"
      },
      "execution_count": null,
      "outputs": [
        {
          "output_type": "stream",
          "name": "stdout",
          "text": [
            "41\n"
          ]
        }
      ]
    },
    {
      "cell_type": "code",
      "source": [
        "for i in ar3:\n",
        "    print(i)"
      ],
      "metadata": {
        "colab": {
          "base_uri": "https://localhost:8080/"
        },
        "id": "rD6Olc8emRCP",
        "outputId": "3d700061-1f5b-4b0d-c6e1-cd6829a9f702"
      },
      "execution_count": null,
      "outputs": [
        {
          "output_type": "stream",
          "name": "stdout",
          "text": [
            "[45 63 98]\n",
            "[56 23 41]\n",
            "[78 96 32]\n",
            "[10 20 30]\n"
          ]
        }
      ]
    },
    {
      "cell_type": "code",
      "source": [
        "for i in np.nditer(ar3):\n",
        "  print(i)"
      ],
      "metadata": {
        "colab": {
          "base_uri": "https://localhost:8080/"
        },
        "id": "FK3uoDxQmuUJ",
        "outputId": "7a61d137-a8e3-49bb-b117-ae8da706aec1"
      },
      "execution_count": null,
      "outputs": [
        {
          "output_type": "stream",
          "name": "stdout",
          "text": [
            "45\n",
            "63\n",
            "98\n",
            "56\n",
            "23\n",
            "41\n",
            "78\n",
            "96\n",
            "32\n",
            "10\n",
            "20\n",
            "30\n"
          ]
        }
      ]
    },
    {
      "cell_type": "code",
      "source": [
        "#Matrix Multiplication\n",
        "ar_a=np.array([[1,2,3],[4,5,6]])\n",
        "ar_b=np.array([[10,11],[20,21],[30,31]])\n",
        "print(ar_a)\n",
        "print(ar_b)"
      ],
      "metadata": {
        "colab": {
          "base_uri": "https://localhost:8080/"
        },
        "id": "9loYci8Tm6wo",
        "outputId": "2c66e2a9-f34d-45a4-ebe8-4386da65ad4f"
      },
      "execution_count": null,
      "outputs": [
        {
          "output_type": "stream",
          "name": "stdout",
          "text": [
            "[[1 2 3]\n",
            " [4 5 6]]\n",
            "[[10 11]\n",
            " [20 21]\n",
            " [30 31]]\n"
          ]
        }
      ]
    },
    {
      "cell_type": "code",
      "source": [
        "ar_mul=np.dot(ar_a,ar_b)\n",
        "print(ar_mul)"
      ],
      "metadata": {
        "colab": {
          "base_uri": "https://localhost:8080/"
        },
        "id": "W-EMnR3En5nu",
        "outputId": "989588f8-bd2d-4e1d-991e-b2d7ea10470d"
      },
      "execution_count": null,
      "outputs": [
        {
          "output_type": "stream",
          "name": "stdout",
          "text": [
            "[[140 146]\n",
            " [320 335]]\n"
          ]
        }
      ]
    },
    {
      "cell_type": "code",
      "source": [
        "marks=np.array([45,96,85,67,78,45,90,56,57,97,90,85,84,67])\n",
        "print(\"Sum:\",marks.sum())\n",
        "print(\"Max:\",marks.max())\n",
        "print(\"Min:\",marks.min())\n",
        "print(\"Mean:\",marks.mean())\n",
        "print(\"Median:\",np.median(marks))\n",
        "print(\"Std:\",marks.std())\n",
        "print(\"Variance:\",marks.var())"
      ],
      "metadata": {
        "colab": {
          "base_uri": "https://localhost:8080/"
        },
        "id": "Ifa5AHlZoHYE",
        "outputId": "ccaac337-3696-41d4-ae1f-60d659877510"
      },
      "execution_count": null,
      "outputs": [
        {
          "output_type": "stream",
          "name": "stdout",
          "text": [
            "Sum: 1042\n",
            "Max: 97\n",
            "Min: 45\n",
            "Mean: 74.42857142857143\n",
            "Median: 81.0\n",
            "Std: 17.47125919787076\n",
            "Variance: 305.2448979591837\n"
          ]
        }
      ]
    },
    {
      "cell_type": "code",
      "source": [
        "#Broadcasting airthemical operations\n",
        "lst=[10,20,30]\n",
        "print(lst*3)\n",
        "\n",
        "ar4=np.array([10,20,30])\n",
        "print(ar4*3)"
      ],
      "metadata": {
        "colab": {
          "base_uri": "https://localhost:8080/"
        },
        "id": "5n7kYXOpooxa",
        "outputId": "c40c6ae1-982c-4994-9442-76bb5a2c2cb0"
      },
      "execution_count": null,
      "outputs": [
        {
          "output_type": "stream",
          "name": "stdout",
          "text": [
            "[10, 20, 30, 10, 20, 30, 10, 20, 30]\n",
            "[30 60 90]\n"
          ]
        }
      ]
    },
    {
      "cell_type": "markdown",
      "source": [
        "**Pandas**\n",
        "\n",
        "Reading data"
      ],
      "metadata": {
        "id": "yNKLF_WpynaS"
      }
    },
    {
      "cell_type": "code",
      "source": [
        "#Import and Export\n",
        "#Common filetypes: csv,excel,JSON\n",
        "\n",
        "#Import Functiond: read_csv(),read_excel(),read_json()\n",
        "#Export Functiond: to_csv(),to_excel(),to_json()"
      ],
      "metadata": {
        "id": "dRZPdbwXynJX"
      },
      "execution_count": null,
      "outputs": []
    },
    {
      "cell_type": "code",
      "source": [
        "import pandas as pd\n",
        "\n",
        "df=pd.read_csv(\"/content/Social_Network_Ads.csv\")\n",
        "#df=pd.read_csv(\"/content/Social_Network_Ads.csv\",index_col='User ID')\n",
        "print(df)"
      ],
      "metadata": {
        "colab": {
          "base_uri": "https://localhost:8080/"
        },
        "id": "SdvVyM-00uh2",
        "outputId": "89b18d7c-5366-4ca0-9d04-13c7f9c394bc"
      },
      "execution_count": null,
      "outputs": [
        {
          "output_type": "stream",
          "name": "stdout",
          "text": [
            "      User ID  Gender  Age  EstimatedSalary  Purchased\n",
            "0    15624510    Male   19            19000          0\n",
            "1    15810944    Male   35            20000          0\n",
            "2    15668575  Female   26            43000          0\n",
            "3    15603246  Female   27            57000          0\n",
            "4    15804002    Male   19            76000          0\n",
            "..        ...     ...  ...              ...        ...\n",
            "395  15691863  Female   46            41000          1\n",
            "396  15706071    Male   51            23000          1\n",
            "397  15654296  Female   50            20000          1\n",
            "398  15755018    Male   36            33000          0\n",
            "399  15594041  Female   49            36000          1\n",
            "\n",
            "[400 rows x 5 columns]\n"
          ]
        }
      ]
    },
    {
      "cell_type": "code",
      "source": [
        "print(df.info())"
      ],
      "metadata": {
        "colab": {
          "base_uri": "https://localhost:8080/"
        },
        "id": "iy_jVI1e1oet",
        "outputId": "730868a6-70ec-4304-b9e3-f6a862a50c4f"
      },
      "execution_count": null,
      "outputs": [
        {
          "output_type": "stream",
          "name": "stdout",
          "text": [
            "<class 'pandas.core.frame.DataFrame'>\n",
            "RangeIndex: 400 entries, 0 to 399\n",
            "Data columns (total 5 columns):\n",
            " #   Column           Non-Null Count  Dtype \n",
            "---  ------           --------------  ----- \n",
            " 0   User ID          400 non-null    int64 \n",
            " 1   Gender           400 non-null    object\n",
            " 2   Age              400 non-null    int64 \n",
            " 3   EstimatedSalary  400 non-null    int64 \n",
            " 4   Purchased        400 non-null    int64 \n",
            "dtypes: int64(4), object(1)\n",
            "memory usage: 15.8+ KB\n",
            "None\n"
          ]
        }
      ]
    },
    {
      "cell_type": "code",
      "source": [
        "print(df.describe())"
      ],
      "metadata": {
        "colab": {
          "base_uri": "https://localhost:8080/"
        },
        "id": "2_CoMcA41u0g",
        "outputId": "40dee76a-7e59-41d3-f393-006adc2b855a"
      },
      "execution_count": null,
      "outputs": [
        {
          "output_type": "stream",
          "name": "stdout",
          "text": [
            "            User ID         Age  EstimatedSalary   Purchased\n",
            "count  4.000000e+02  400.000000       400.000000  400.000000\n",
            "mean   1.569154e+07   37.655000     69742.500000    0.357500\n",
            "std    7.165832e+04   10.482877     34096.960282    0.479864\n",
            "min    1.556669e+07   18.000000     15000.000000    0.000000\n",
            "25%    1.562676e+07   29.750000     43000.000000    0.000000\n",
            "50%    1.569434e+07   37.000000     70000.000000    0.000000\n",
            "75%    1.575036e+07   46.000000     88000.000000    1.000000\n",
            "max    1.581524e+07   60.000000    150000.000000    1.000000\n"
          ]
        }
      ]
    },
    {
      "cell_type": "code",
      "source": [
        "print(df.describe(include='object'))"
      ],
      "metadata": {
        "colab": {
          "base_uri": "https://localhost:8080/"
        },
        "id": "iZT5XKYd2lsQ",
        "outputId": "02435701-9599-4671-e4d2-a67656f9028a"
      },
      "execution_count": null,
      "outputs": [
        {
          "output_type": "stream",
          "name": "stdout",
          "text": [
            "        Gender\n",
            "count      400\n",
            "unique       2\n",
            "top     Female\n",
            "freq       204\n"
          ]
        }
      ]
    },
    {
      "cell_type": "code",
      "source": [
        "#Setup custom index\n",
        "df.set_index('User ID',inplace=True)\n",
        "print(df)"
      ],
      "metadata": {
        "colab": {
          "base_uri": "https://localhost:8080/"
        },
        "id": "11KzrzGc4B65",
        "outputId": "f88ac188-1517-4909-f0e9-3227a5499371"
      },
      "execution_count": null,
      "outputs": [
        {
          "output_type": "stream",
          "name": "stdout",
          "text": [
            "          Gender  Age  EstimatedSalary  Purchased\n",
            "User ID                                          \n",
            "15624510    Male   19            19000          0\n",
            "15810944    Male   35            20000          0\n",
            "15668575  Female   26            43000          0\n",
            "15603246  Female   27            57000          0\n",
            "15804002    Male   19            76000          0\n",
            "...          ...  ...              ...        ...\n",
            "15691863  Female   46            41000          1\n",
            "15706071    Male   51            23000          1\n",
            "15654296  Female   50            20000          1\n",
            "15755018    Male   36            33000          0\n",
            "15594041  Female   49            36000          1\n",
            "\n",
            "[400 rows x 4 columns]\n"
          ]
        }
      ]
    },
    {
      "cell_type": "markdown",
      "source": [
        "Selections: specific columns and rows"
      ],
      "metadata": {
        "id": "PP90zfoL5MkO"
      }
    },
    {
      "cell_type": "code",
      "source": [
        "print(df['EstimatedSalary'])"
      ],
      "metadata": {
        "colab": {
          "base_uri": "https://localhost:8080/"
        },
        "id": "Nr4U_KFr4ICY",
        "outputId": "a23ddb56-d62a-46f9-e3af-24b77d5242c6"
      },
      "execution_count": null,
      "outputs": [
        {
          "output_type": "stream",
          "name": "stdout",
          "text": [
            "User ID\n",
            "15624510    19000\n",
            "15810944    20000\n",
            "15668575    43000\n",
            "15603246    57000\n",
            "15804002    76000\n",
            "            ...  \n",
            "15691863    41000\n",
            "15706071    23000\n",
            "15654296    20000\n",
            "15755018    33000\n",
            "15594041    36000\n",
            "Name: EstimatedSalary, Length: 400, dtype: int64\n"
          ]
        }
      ]
    },
    {
      "cell_type": "code",
      "source": [
        "print(df.Age)"
      ],
      "metadata": {
        "colab": {
          "base_uri": "https://localhost:8080/"
        },
        "id": "gqw0oh205jmf",
        "outputId": "272a7f2b-a29c-457a-aadc-488829468f0e"
      },
      "execution_count": null,
      "outputs": [
        {
          "output_type": "stream",
          "name": "stdout",
          "text": [
            "User ID\n",
            "15624510    19\n",
            "15810944    35\n",
            "15668575    26\n",
            "15603246    27\n",
            "15804002    19\n",
            "            ..\n",
            "15691863    46\n",
            "15706071    51\n",
            "15654296    50\n",
            "15755018    36\n",
            "15594041    49\n",
            "Name: Age, Length: 400, dtype: int64\n"
          ]
        }
      ]
    },
    {
      "cell_type": "code",
      "source": [
        "#selecting specific columns\n",
        "print(df[['Age','EstimatedSalary']])"
      ],
      "metadata": {
        "colab": {
          "base_uri": "https://localhost:8080/"
        },
        "id": "dO71U9pW5tvK",
        "outputId": "c1fdae6f-d9c6-435a-949b-e1b7b5e5416f"
      },
      "execution_count": null,
      "outputs": [
        {
          "output_type": "stream",
          "name": "stdout",
          "text": [
            "          Age  EstimatedSalary\n",
            "User ID                       \n",
            "15624510   19            19000\n",
            "15810944   35            20000\n",
            "15668575   26            43000\n",
            "15603246   27            57000\n",
            "15804002   19            76000\n",
            "...       ...              ...\n",
            "15691863   46            41000\n",
            "15706071   51            23000\n",
            "15654296   50            20000\n",
            "15755018   36            33000\n",
            "15594041   49            36000\n",
            "\n",
            "[400 rows x 2 columns]\n"
          ]
        }
      ]
    },
    {
      "cell_type": "code",
      "source": [
        "#Label Based: at[],loc[]\n",
        "#Condition Based:df[condition]"
      ],
      "metadata": {
        "id": "SArojVKk6Khc"
      },
      "execution_count": null,
      "outputs": []
    },
    {
      "cell_type": "code",
      "source": [
        "#at[row_index,column_label]  only one index and one label\n",
        "print(df.at[15603246,'EstimatedSalary'])"
      ],
      "metadata": {
        "colab": {
          "base_uri": "https://localhost:8080/"
        },
        "id": "fkdzn4gY6fkH",
        "outputId": "be10a6ed-a60c-4d98-98d7-7f73e360fade"
      },
      "execution_count": null,
      "outputs": [
        {
          "output_type": "stream",
          "name": "stdout",
          "text": [
            "57000\n"
          ]
        }
      ]
    },
    {
      "cell_type": "code",
      "source": [
        "#Update values\n",
        "df.at[15603246,'EstimatedSalary']=60000   #new value\n",
        "print(df)"
      ],
      "metadata": {
        "colab": {
          "base_uri": "https://localhost:8080/"
        },
        "id": "fP8M84ud7OaM",
        "outputId": "6cb1a35d-e283-40ce-f659-f4b737b6bdf0"
      },
      "execution_count": null,
      "outputs": [
        {
          "output_type": "stream",
          "name": "stdout",
          "text": [
            "          Gender  Age  EstimatedSalary  Purchased\n",
            "User ID                                          \n",
            "15624510    Male   19            19000          0\n",
            "15810944    Male   35            20000          0\n",
            "15668575  Female   26            43000          0\n",
            "15603246  Female   27            60000          0\n",
            "15804002    Male   19            76000          0\n",
            "...          ...  ...              ...        ...\n",
            "15691863  Female   46            41000          1\n",
            "15706071    Male   51            23000          1\n",
            "15654296  Female   50            20000          1\n",
            "15755018    Male   36            33000          0\n",
            "15594041  Female   49            36000          1\n",
            "\n",
            "[400 rows x 4 columns]\n"
          ]
        }
      ]
    },
    {
      "cell_type": "code",
      "source": [
        "#loc[row_index_range,columns labels]\n",
        "print(df.loc[15624510:15804002,['Gender','Age','Purchased']])"
      ],
      "metadata": {
        "colab": {
          "base_uri": "https://localhost:8080/"
        },
        "id": "8Nedqj4V7ZnN",
        "outputId": "5acde0c2-92d6-4599-c757-5899dc443a1a"
      },
      "execution_count": null,
      "outputs": [
        {
          "output_type": "stream",
          "name": "stdout",
          "text": [
            "          Gender  Age  Purchased\n",
            "User ID                         \n",
            "15624510    Male   19          0\n",
            "15810944    Male   35          0\n",
            "15668575  Female   26          0\n",
            "15603246  Female   27          0\n",
            "15804002    Male   19          0\n"
          ]
        }
      ]
    },
    {
      "cell_type": "code",
      "source": [
        "print(df.loc[15804002])"
      ],
      "metadata": {
        "colab": {
          "base_uri": "https://localhost:8080/"
        },
        "id": "9bB8JlyR8R9P",
        "outputId": "228d8724-275a-4ddd-edf7-b347e1aeb531"
      },
      "execution_count": null,
      "outputs": [
        {
          "output_type": "stream",
          "name": "stdout",
          "text": [
            "Gender              Male\n",
            "Age                   19\n",
            "EstimatedSalary    76000\n",
            "Purchased              0\n",
            "Name: 15804002, dtype: object\n"
          ]
        }
      ]
    },
    {
      "cell_type": "code",
      "source": [
        "print(df.loc[[15804002,15706071,15810944],['Age','EstimatedSalary']])"
      ],
      "metadata": {
        "colab": {
          "base_uri": "https://localhost:8080/"
        },
        "id": "deGAX0pz8hR9",
        "outputId": "9049475e-479c-4b89-cee0-f75871fd1ad3"
      },
      "execution_count": null,
      "outputs": [
        {
          "output_type": "stream",
          "name": "stdout",
          "text": [
            "          Age  EstimatedSalary\n",
            "User ID                       \n",
            "15804002   19            76000\n",
            "15706071   51            23000\n",
            "15810944   35            20000\n"
          ]
        }
      ]
    },
    {
      "cell_type": "code",
      "source": [
        "#Conditional Selections\n",
        "print(df[df['Age']>50])"
      ],
      "metadata": {
        "colab": {
          "base_uri": "https://localhost:8080/"
        },
        "id": "zHq6InyJ9BsK",
        "outputId": "816d07a1-2ab5-4188-9cb7-ef010da40090"
      },
      "execution_count": null,
      "outputs": [
        {
          "output_type": "stream",
          "name": "stdout",
          "text": [
            "          Gender  Age  EstimatedSalary  Purchased\n",
            "User ID                                          \n",
            "15605000  Female   59            83000          0\n",
            "15660866  Female   58           101000          1\n",
            "15654230  Female   55           130000          1\n",
            "15794566  Female   52           114000          0\n",
            "15735878    Male   52           150000          1\n",
            "15707596  Female   59            42000          0\n",
            "15779529  Female   60           108000          1\n",
            "15732987    Male   59           143000          1\n",
            "15593715    Male   60           102000          1\n",
            "15685346    Male   56           133000          1\n",
            "15772073  Female   53           143000          1\n",
            "15769596  Female   56           104000          1\n",
            "15722061  Female   51           146000          1\n",
            "15775590  Female   57           122000          1\n",
            "15750056  Female   52            90000          1\n",
            "15569641  Female   58            95000          1\n",
            "15672821  Female   55           125000          1\n",
            "15688172  Female   59            76000          1\n",
            "15791373    Male   60            42000          1\n",
            "15692819  Female   57            26000          1\n",
            "15727467    Male   57            74000          1\n",
            "15613014  Female   52            38000          1\n",
            "15609669  Female   59            88000          1\n",
            "15663249  Female   52            21000          1\n",
            "15625395    Male   55            39000          1\n",
            "15736397  Female   58            38000          1\n",
            "15603942  Female   51           134000          0\n",
            "15667417  Female   54           104000          1\n",
            "15774872  Female   52           138000          1\n",
            "15611191  Female   53            82000          1\n",
            "15814553    Male   57            60000          1\n",
            "15664907    Male   58           144000          1\n",
            "15588080  Female   53           104000          1\n",
            "15646936    Male   53            72000          1\n",
            "15768151  Female   54           108000          1\n",
            "15606472    Male   60            34000          1\n",
            "15778368    Male   54            70000          1\n",
            "15778830  Female   53            34000          1\n",
            "15807525  Female   59            29000          1\n",
            "15574372  Female   58            47000          1\n",
            "15624755  Female   54            26000          1\n",
            "15611430  Female   60            46000          1\n",
            "15774744    Male   60            83000          1\n",
            "15708791    Male   59           130000          1\n",
            "15749381  Female   58            23000          1\n",
            "15806901  Female   57            33000          1\n",
            "15775335    Male   56            60000          1\n",
            "15635893    Male   60            42000          1\n",
            "15706071    Male   51            23000          1\n"
          ]
        }
      ]
    },
    {
      "cell_type": "code",
      "source": [
        "#&-and |-or\n",
        "print(df[(df['Age']>50) & (df['Gender']=='Female') & (df['EstimatedSalary']>100000)])"
      ],
      "metadata": {
        "colab": {
          "base_uri": "https://localhost:8080/"
        },
        "id": "JOq3lolT9Pc8",
        "outputId": "ae305e08-ea80-4aba-fc3d-abaa0147f4a6"
      },
      "execution_count": null,
      "outputs": [
        {
          "output_type": "stream",
          "name": "stdout",
          "text": [
            "          Gender  Age  EstimatedSalary  Purchased\n",
            "User ID                                          \n",
            "15660866  Female   58           101000          1\n",
            "15654230  Female   55           130000          1\n",
            "15794566  Female   52           114000          0\n",
            "15779529  Female   60           108000          1\n",
            "15772073  Female   53           143000          1\n",
            "15769596  Female   56           104000          1\n",
            "15722061  Female   51           146000          1\n",
            "15775590  Female   57           122000          1\n",
            "15672821  Female   55           125000          1\n",
            "15603942  Female   51           134000          0\n",
            "15667417  Female   54           104000          1\n",
            "15774872  Female   52           138000          1\n",
            "15588080  Female   53           104000          1\n",
            "15768151  Female   54           108000          1\n"
          ]
        }
      ]
    },
    {
      "cell_type": "code",
      "source": [
        "df_new=df[(df['Age']>50) & (df['Gender']=='Female') & (df['EstimatedSalary']>100000)]"
      ],
      "metadata": {
        "id": "JgX6hhNk9_87"
      },
      "execution_count": null,
      "outputs": []
    },
    {
      "cell_type": "code",
      "source": [
        "print(df_new)"
      ],
      "metadata": {
        "colab": {
          "base_uri": "https://localhost:8080/"
        },
        "id": "CvUKqyYr-Fy6",
        "outputId": "320827e8-d68a-4818-8f46-69c01afb7557"
      },
      "execution_count": null,
      "outputs": [
        {
          "output_type": "stream",
          "name": "stdout",
          "text": [
            "          Gender  Age  EstimatedSalary  Purchased\n",
            "User ID                                          \n",
            "15660866  Female   58           101000          1\n",
            "15654230  Female   55           130000          1\n",
            "15794566  Female   52           114000          0\n",
            "15779529  Female   60           108000          1\n",
            "15772073  Female   53           143000          1\n",
            "15769596  Female   56           104000          1\n",
            "15722061  Female   51           146000          1\n",
            "15775590  Female   57           122000          1\n",
            "15672821  Female   55           125000          1\n",
            "15603942  Female   51           134000          0\n",
            "15667417  Female   54           104000          1\n",
            "15774872  Female   52           138000          1\n",
            "15588080  Female   53           104000          1\n",
            "15768151  Female   54           108000          1\n"
          ]
        }
      ]
    },
    {
      "cell_type": "code",
      "source": [
        "#Random Sampling/selection\n",
        "print(df.sample(5))"
      ],
      "metadata": {
        "colab": {
          "base_uri": "https://localhost:8080/"
        },
        "id": "XQ74vj0A-HKF",
        "outputId": "6fd37066-69fa-4468-d2c3-bb184028203b"
      },
      "execution_count": null,
      "outputs": [
        {
          "output_type": "stream",
          "name": "stdout",
          "text": [
            "          Gender  Age  EstimatedSalary  Purchased\n",
            "User ID                                          \n",
            "15795298  Female   48           134000          1\n",
            "15631159    Male   47            20000          1\n",
            "15610403  Female   28            59000          0\n",
            "15595135  Female   23            66000          0\n",
            "15675949  Female   33           149000          1\n"
          ]
        }
      ]
    },
    {
      "cell_type": "code",
      "source": [
        "#Export Data    DF--->file\n",
        "df_new.to_excel(\"Selected_data.xlsx\")\n",
        "df_new.to_json(\"file1.json\")"
      ],
      "metadata": {
        "id": "WVpwYCGc-rpj"
      },
      "execution_count": null,
      "outputs": []
    },
    {
      "cell_type": "code",
      "source": [],
      "metadata": {
        "id": "aArZqmCdAQ4T"
      },
      "execution_count": null,
      "outputs": []
    }
  ]
}